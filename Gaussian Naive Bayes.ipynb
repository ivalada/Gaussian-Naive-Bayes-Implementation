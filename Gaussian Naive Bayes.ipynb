{
 "cells": [
  {
   "cell_type": "markdown",
   "id": "7dcbfc4e",
   "metadata": {},
   "source": [
    "#### Importing modules"
   ]
  },
  {
   "cell_type": "code",
   "execution_count": 1,
   "id": "e863d080",
   "metadata": {},
   "outputs": [],
   "source": [
    "import pandas as pd\n",
    "import numpy as np\n",
    "from sklearn.model_selection import KFold, StratifiedKFold, LeaveOneOut, ShuffleSplit\n",
    "from sklearn.metrics import accuracy_score\n",
    "from sklearn import datasets"
   ]
  },
  {
   "cell_type": "markdown",
   "id": "fa43d151",
   "metadata": {},
   "source": [
    "#### Gaussian Naive Bayes class"
   ]
  },
  {
   "cell_type": "code",
   "execution_count": 2,
   "id": "81ca1842",
   "metadata": {},
   "outputs": [],
   "source": [
    "class GaussianNaiveBayes:\n",
    "    # Constructor\n",
    "    def __init__(self):\n",
    "        self.sigmas = dict()\n",
    "        self.dispersions = dict()\n",
    "        self.probs = dict()\n",
    "        self.targets = list()\n",
    "        self.columns = list()\n",
    "    \n",
    "    # Fit method\n",
    "    def fit(self, x, y, column_names):\n",
    "        self.__init__()\n",
    "        \n",
    "        # Preparing DataFrame\n",
    "        dataset = pd.DataFrame(data=x, index=None, columns=column_names[:-1])\n",
    "        target_column_name = column_names[-1]\n",
    "        dataset[target_column_name] = y\n",
    "        \n",
    "        # Preparing sigma / dispersion dictionaries \n",
    "        for column in dataset.drop(target_column_name, axis=1):\n",
    "            self.sigmas[column] = dict()\n",
    "            self.dispersions[column] = dict()\n",
    "            for target in dataset[target_column_name].unique():\n",
    "                sample = np.array(dataset.query('{0} == @target'.format(target_column_name))[column])\n",
    "                self.sigmas[column][target] = sample.std()\n",
    "                self.dispersions[column][target] = sample.mean()\n",
    "                self.probs[column] = len(sample) / len(x)\n",
    "        \n",
    "        self.targets = dataset[target_column_name].unique()\n",
    "        self.columns = column_names\n",
    "    \n",
    "    # Predict method\n",
    "    def predict(self, X):\n",
    "        predicts = list()\n",
    "        for row in X:\n",
    "            target_prob_dict = dict()\n",
    "            for target in self.targets:\n",
    "                for x, column in zip(row, self.columns[:-1]):\n",
    "                    sigma = self.sigmas[column][target]\n",
    "                    dispersion = self.dispersions[column][target]\n",
    "                    prob = self.probs[column]\n",
    "                    target_prob = ((1 / np.sqrt(np.pi*sigma)) * np.exp(-( (x-dispersion)**2 / (2*sigma**2)))) * prob\n",
    "                    target_prob_dict[target] = target_prob_dict.get(target, 1) * target_prob\n",
    "            predicts.append(max(target_prob_dict, key=target_prob_dict.get))\n",
    "        return predicts"
   ]
  },
  {
   "cell_type": "markdown",
   "id": "10e15206",
   "metadata": {},
   "source": [
    "#### Testing our classifier on default sklearn datasets (different cross-validation methods are being passed as an arguments)"
   ]
  },
  {
   "cell_type": "code",
   "execution_count": 3,
   "id": "659a1535",
   "metadata": {},
   "outputs": [],
   "source": [
    "def cross_val_gnb(dataset, cross_val_func, cross_val_args):\n",
    "    data = dataset.data\n",
    "    target = dataset.target\n",
    "    column_names = list(name.replace(' ', '_') for name in dataset.feature_names)\n",
    "    column_names.append('target')\n",
    "    cv = cross_val_func(**cross_val_args)\n",
    "    efficency = list()\n",
    "    for train_index, test_index in cv.split(data, target):\n",
    "        train_x, test_x = data[train_index], data[test_index]\n",
    "        train_y, test_y = target[train_index], target[test_index]\n",
    "        gnb = GaussianNaiveBayes()\n",
    "        gnb.fit(train_x, train_y, column_names)\n",
    "        pred_y = gnb.predict(test_x)\n",
    "        efficency.append(accuracy_score(test_y, pred_y))\n",
    "    return (np.average(efficency) * 100)"
   ]
  },
  {
   "cell_type": "markdown",
   "id": "6ef2a725",
   "metadata": {},
   "source": [
    "#### Loading datasets"
   ]
  },
  {
   "cell_type": "code",
   "execution_count": 4,
   "id": "f0a79312",
   "metadata": {},
   "outputs": [],
   "source": [
    "iris_dataset = datasets.load_iris()\n",
    "wine_dataset = datasets.load_wine()\n",
    "cancer_dataset = datasets.load_breast_cancer()"
   ]
  },
  {
   "cell_type": "code",
   "execution_count": 5,
   "id": "04a47a09",
   "metadata": {},
   "outputs": [],
   "source": [
    "datasets = (iris_dataset, wine_dataset, cancer_dataset)\n",
    "names = ('Iris', 'Wine', 'Cancer')\n",
    "cross_val_methods = {LeaveOneOut: {},\n",
    "                     ShuffleSplit : {\"n_splits\" : 5, \"test_size\" : 0.25},\n",
    "                     StratifiedKFold : {\"n_splits\": 5, \"shuffle\": True}}"
   ]
  },
  {
   "cell_type": "markdown",
   "id": "47e28b78",
   "metadata": {},
   "source": [
    "#### Preparing a DataFrame with average classification accuracy for every dataset"
   ]
  },
  {
   "cell_type": "code",
   "execution_count": 6,
   "id": "3242d656",
   "metadata": {},
   "outputs": [],
   "source": [
    "df = pd.DataFrame({'Dataset': names, 'Accuracy, %': [None for name in names], 'Cross-validation method': [None for name in names]})\n",
    "df = df.set_index('Dataset')"
   ]
  },
  {
   "cell_type": "code",
   "execution_count": 7,
   "id": "f1dfefe5",
   "metadata": {},
   "outputs": [],
   "source": [
    "for dataset, name, cross_val_method in zip(datasets, names, cross_val_methods):\n",
    "    df['Accuracy, %'][name] = cross_val_gnb(dataset, cross_val_method, cross_val_methods[cross_val_method])\n",
    "    df['Cross-validation method'][name] = cross_val_method.__name__"
   ]
  },
  {
   "cell_type": "code",
   "execution_count": 8,
   "id": "eff8d729",
   "metadata": {},
   "outputs": [
    {
     "data": {
      "text/html": [
       "<div>\n",
       "<style scoped>\n",
       "    .dataframe tbody tr th:only-of-type {\n",
       "        vertical-align: middle;\n",
       "    }\n",
       "\n",
       "    .dataframe tbody tr th {\n",
       "        vertical-align: top;\n",
       "    }\n",
       "\n",
       "    .dataframe thead th {\n",
       "        text-align: right;\n",
       "    }\n",
       "</style>\n",
       "<table border=\"1\" class=\"dataframe\">\n",
       "  <thead>\n",
       "    <tr style=\"text-align: right;\">\n",
       "      <th></th>\n",
       "      <th>Accuracy, %</th>\n",
       "      <th>Cross-validation method</th>\n",
       "    </tr>\n",
       "    <tr>\n",
       "      <th>Dataset</th>\n",
       "      <th></th>\n",
       "      <th></th>\n",
       "    </tr>\n",
       "  </thead>\n",
       "  <tbody>\n",
       "    <tr>\n",
       "      <th>Iris</th>\n",
       "      <td>95.333333</td>\n",
       "      <td>LeaveOneOut</td>\n",
       "    </tr>\n",
       "    <tr>\n",
       "      <th>Wine</th>\n",
       "      <td>98.666667</td>\n",
       "      <td>ShuffleSplit</td>\n",
       "    </tr>\n",
       "    <tr>\n",
       "      <th>Cancer</th>\n",
       "      <td>92.971588</td>\n",
       "      <td>StratifiedKFold</td>\n",
       "    </tr>\n",
       "  </tbody>\n",
       "</table>\n",
       "</div>"
      ],
      "text/plain": [
       "        Accuracy, % Cross-validation method\n",
       "Dataset                                    \n",
       "Iris      95.333333             LeaveOneOut\n",
       "Wine      98.666667            ShuffleSplit\n",
       "Cancer    92.971588         StratifiedKFold"
      ]
     },
     "execution_count": 8,
     "metadata": {},
     "output_type": "execute_result"
    }
   ],
   "source": [
    "df"
   ]
  },
  {
   "cell_type": "code",
   "execution_count": null,
   "id": "161dad3d",
   "metadata": {},
   "outputs": [],
   "source": []
  }
 ],
 "metadata": {
  "kernelspec": {
   "display_name": "Python 3 (ipykernel)",
   "language": "python",
   "name": "python3"
  },
  "language_info": {
   "codemirror_mode": {
    "name": "ipython",
    "version": 3
   },
   "file_extension": ".py",
   "mimetype": "text/x-python",
   "name": "python",
   "nbconvert_exporter": "python",
   "pygments_lexer": "ipython3",
   "version": "3.9.12"
  }
 },
 "nbformat": 4,
 "nbformat_minor": 5
}
